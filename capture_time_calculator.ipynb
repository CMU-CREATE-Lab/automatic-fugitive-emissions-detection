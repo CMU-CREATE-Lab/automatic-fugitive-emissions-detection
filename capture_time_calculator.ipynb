{
 "cells": [
  {
   "cell_type": "code",
   "execution_count": 1,
   "id": "788cc1ac",
   "metadata": {},
   "outputs": [],
   "source": [
    "import datetime\n",
    "from dateutil import parser, tz\n",
    "from breathecam import BreatheCam\n",
    "from common import get_previous_frame_time\n",
    "from components import View\n",
    "from motion import temporal_events, mask_background, get_event"
   ]
  },
  {
   "cell_type": "code",
   "execution_count": 6,
   "id": "cb055f65",
   "metadata": {},
   "outputs": [
    {
     "name": "stdout",
     "output_type": "stream",
     "text": [
      "2024-09-10 07:37:20\n",
      "6854\n"
     ]
    }
   ],
   "source": [
    "day = datetime.date.fromisoformat(\"2024-09-10\")  #@TODO change with batch\n",
    "camera = BreatheCam.init_from(\"Revolution ETC/Harmon Creek Gas Processing Plants\", day)  #@TODO change with batch\n",
    "\n",
    "date = datetime.datetime(2024, 9, 10, 7, 37, 20) #@TODO change with batch\n",
    "dateStr = date.strftime(\"%Y-%m-%d %H:%M:%S\") #@TODO change with batch\n",
    "print(dateStr)\n",
    "print(camera.capture_time_to_frame(dateStr))"
   ]
  }
 ],
 "metadata": {
  "kernelspec": {
   "display_name": ".venv",
   "language": "python",
   "name": "python3"
  },
  "language_info": {
   "codemirror_mode": {
    "name": "ipython",
    "version": 3
   },
   "file_extension": ".py",
   "mimetype": "text/x-python",
   "name": "python",
   "nbconvert_exporter": "python",
   "pygments_lexer": "ipython3",
   "version": "3.11.12"
  }
 },
 "nbformat": 4,
 "nbformat_minor": 5
}
